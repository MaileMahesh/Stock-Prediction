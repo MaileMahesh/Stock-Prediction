{
  "nbformat": 4,
  "nbformat_minor": 0,
  "metadata": {
    "colab": {
      "name": "apple_stock prediction.py",
      "provenance": []
    },
    "kernelspec": {
      "name": "python3",
      "display_name": "Python 3"
    },
    "language_info": {
      "name": "python"
    },
    "accelerator": "GPU"
  },
  "cells": [
    {
      "cell_type": "markdown",
      "metadata": {
        "id": "7FAnedUGW3wP"
      },
      "source": [
        "### Stock Prediction using LSTM"
      ]
    },
    {
      "cell_type": "code",
      "metadata": {
        "id": "fELl8FjmfYaQ",
        "colab": {
          "base_uri": "https://localhost:8080/",
          "height": 206
        },
        "outputId": "ca4af4d1-45a2-415d-cda2-91f51f7fb29d"
      },
      "source": [
        "# Importing and Accessing the dataset\n",
        "import pandas_datareader as pdr\n",
        "import pandas as pd\n",
        "data = pdr.get_data_tiingo('AAPL',api_key='84937a949bc6030792d317054c54af8fedc1c968')\n",
        "data.to_csv('AAPL.csv')\n",
        "data = pd.read_csv('AAPL.csv')\n",
        "data.head()"
      ],
      "execution_count": null,
      "outputs": [
        {
          "output_type": "execute_result",
          "data": {
            "text/html": [
              "<div>\n",
              "<style scoped>\n",
              "    .dataframe tbody tr th:only-of-type {\n",
              "        vertical-align: middle;\n",
              "    }\n",
              "\n",
              "    .dataframe tbody tr th {\n",
              "        vertical-align: top;\n",
              "    }\n",
              "\n",
              "    .dataframe thead th {\n",
              "        text-align: right;\n",
              "    }\n",
              "</style>\n",
              "<table border=\"1\" class=\"dataframe\">\n",
              "  <thead>\n",
              "    <tr style=\"text-align: right;\">\n",
              "      <th></th>\n",
              "      <th>symbol</th>\n",
              "      <th>date</th>\n",
              "      <th>close</th>\n",
              "      <th>high</th>\n",
              "      <th>low</th>\n",
              "      <th>open</th>\n",
              "      <th>volume</th>\n",
              "      <th>adjClose</th>\n",
              "      <th>adjHigh</th>\n",
              "      <th>adjLow</th>\n",
              "      <th>adjOpen</th>\n",
              "      <th>adjVolume</th>\n",
              "      <th>divCash</th>\n",
              "      <th>splitFactor</th>\n",
              "    </tr>\n",
              "  </thead>\n",
              "  <tbody>\n",
              "    <tr>\n",
              "      <th>0</th>\n",
              "      <td>AAPL</td>\n",
              "      <td>2016-12-08 00:00:00+00:00</td>\n",
              "      <td>112.12</td>\n",
              "      <td>112.43</td>\n",
              "      <td>110.60</td>\n",
              "      <td>110.86</td>\n",
              "      <td>27068316</td>\n",
              "      <td>26.380961</td>\n",
              "      <td>26.453902</td>\n",
              "      <td>26.023317</td>\n",
              "      <td>26.084493</td>\n",
              "      <td>108273264</td>\n",
              "      <td>0.0</td>\n",
              "      <td>1.0</td>\n",
              "    </tr>\n",
              "    <tr>\n",
              "      <th>1</th>\n",
              "      <td>AAPL</td>\n",
              "      <td>2016-12-09 00:00:00+00:00</td>\n",
              "      <td>113.95</td>\n",
              "      <td>114.70</td>\n",
              "      <td>112.31</td>\n",
              "      <td>112.31</td>\n",
              "      <td>34402627</td>\n",
              "      <td>26.811546</td>\n",
              "      <td>26.988015</td>\n",
              "      <td>26.425667</td>\n",
              "      <td>26.425667</td>\n",
              "      <td>137610508</td>\n",
              "      <td>0.0</td>\n",
              "      <td>1.0</td>\n",
              "    </tr>\n",
              "    <tr>\n",
              "      <th>2</th>\n",
              "      <td>AAPL</td>\n",
              "      <td>2016-12-12 00:00:00+00:00</td>\n",
              "      <td>113.30</td>\n",
              "      <td>115.00</td>\n",
              "      <td>112.49</td>\n",
              "      <td>113.29</td>\n",
              "      <td>26374377</td>\n",
              "      <td>26.658606</td>\n",
              "      <td>27.058603</td>\n",
              "      <td>26.468019</td>\n",
              "      <td>26.656253</td>\n",
              "      <td>105497508</td>\n",
              "      <td>0.0</td>\n",
              "      <td>1.0</td>\n",
              "    </tr>\n",
              "    <tr>\n",
              "      <th>3</th>\n",
              "      <td>AAPL</td>\n",
              "      <td>2016-12-13 00:00:00+00:00</td>\n",
              "      <td>115.19</td>\n",
              "      <td>115.92</td>\n",
              "      <td>113.75</td>\n",
              "      <td>113.84</td>\n",
              "      <td>43733811</td>\n",
              "      <td>27.103308</td>\n",
              "      <td>27.275071</td>\n",
              "      <td>26.764487</td>\n",
              "      <td>26.785664</td>\n",
              "      <td>174935244</td>\n",
              "      <td>0.0</td>\n",
              "      <td>1.0</td>\n",
              "    </tr>\n",
              "    <tr>\n",
              "      <th>4</th>\n",
              "      <td>AAPL</td>\n",
              "      <td>2016-12-14 00:00:00+00:00</td>\n",
              "      <td>115.19</td>\n",
              "      <td>116.20</td>\n",
              "      <td>114.98</td>\n",
              "      <td>115.04</td>\n",
              "      <td>34031834</td>\n",
              "      <td>27.103308</td>\n",
              "      <td>27.340953</td>\n",
              "      <td>27.053897</td>\n",
              "      <td>27.068014</td>\n",
              "      <td>136127336</td>\n",
              "      <td>0.0</td>\n",
              "      <td>1.0</td>\n",
              "    </tr>\n",
              "  </tbody>\n",
              "</table>\n",
              "</div>"
            ],
            "text/plain": [
              "  symbol                       date   close  ...  adjVolume  divCash  splitFactor\n",
              "0   AAPL  2016-12-08 00:00:00+00:00  112.12  ...  108273264      0.0          1.0\n",
              "1   AAPL  2016-12-09 00:00:00+00:00  113.95  ...  137610508      0.0          1.0\n",
              "2   AAPL  2016-12-12 00:00:00+00:00  113.30  ...  105497508      0.0          1.0\n",
              "3   AAPL  2016-12-13 00:00:00+00:00  115.19  ...  174935244      0.0          1.0\n",
              "4   AAPL  2016-12-14 00:00:00+00:00  115.19  ...  136127336      0.0          1.0\n",
              "\n",
              "[5 rows x 14 columns]"
            ]
          },
          "metadata": {},
          "execution_count": 1
        }
      ]
    },
    {
      "cell_type": "code",
      "metadata": {
        "colab": {
          "base_uri": "https://localhost:8080/"
        },
        "id": "oFfd0mMdYfqS",
        "outputId": "6f1a77a7-507a-4198-f1a1-0837fd4dec61"
      },
      "source": [
        "data.shape"
      ],
      "execution_count": null,
      "outputs": [
        {
          "output_type": "execute_result",
          "data": {
            "text/plain": [
              "(1257, 14)"
            ]
          },
          "metadata": {},
          "execution_count": 2
        }
      ]
    },
    {
      "cell_type": "code",
      "metadata": {
        "colab": {
          "base_uri": "https://localhost:8080/",
          "height": 284
        },
        "id": "tj1YN9G7YgDH",
        "outputId": "49f10378-a1bd-4a8c-b596-c857fdd45619"
      },
      "source": [
        "df_close = data['close']\n",
        "\n",
        "# ploting the close feature in stocks\n",
        "import matplotlib.pyplot as plt\n",
        "plt.plot(df_close)"
      ],
      "execution_count": null,
      "outputs": [
        {
          "output_type": "execute_result",
          "data": {
            "text/plain": [
              "[<matplotlib.lines.Line2D at 0x7fc8a91649d0>]"
            ]
          },
          "metadata": {},
          "execution_count": 3
        },
        {
          "output_type": "display_data",
          "data": {
            "image/png": "[encoded data removed]",
            "text/plain": [
              "<Figure size 432x288 with 1 Axes>"
            ]
          },
          "metadata": {
            "needs_background": "light"
          }
        }
      ]
    },
    {
      "cell_type": "code",
      "metadata": {
        "colab": {
          "base_uri": "https://localhost:8080/"
        },
        "id": "rXYNOwyJYgQj",
        "outputId": "35fb87b8-85d3-4ce3-f8c3-da6f4f257f6d"
      },
      "source": [
        "# chosing size of train and test set\n",
        "training_size=int(len(df_close)*0.8)\n",
        "test_size = len(df_close)-training_size\n",
        "\n",
        "# Segregating the dataset into train and test\n",
        "training_data,test_data =data.iloc[0:training_size,2:3].values,data.iloc[training_size:len(df_close),2:3].values\n",
        "\n",
        "# Normalizing the dataset\n",
        "import numpy as np\n",
        "from sklearn.preprocessing import MinMaxScaler\n",
        "sc=MinMaxScaler(feature_range=(0,1))\n",
        "scaled_train_data=sc.fit_transform(training_data)\n",
        "scaled_train_data"
      ],
      "execution_count": null,
      "outputs": [
        {
          "output_type": "execute_result",
          "data": {
            "text/plain": [
              "array([[0.0132248 ],\n",
              "       [0.01780839],\n",
              "       [0.01618034],\n",
              "       ...,\n",
              "       [0.04067627],\n",
              "       [0.04032561],\n",
              "       [0.03859737]])"
            ]
          },
          "metadata": {},
          "execution_count": 4
        }
      ]
    },
    {
      "cell_type": "code",
      "metadata": {
        "colab": {
          "base_uri": "https://localhost:8080/"
        },
        "id": "sieJJgxecwQ3",
        "outputId": "0191516b-3cab-46b6-cedf-8a27635e68ff"
      },
      "source": [
        "# Creating x & y train for training data\n",
        "X_train,y_train = [],[]\n",
        "for i in range(60,len(scaled_train_data)):\n",
        "  X_train.append(scaled_train_data[i-60:i,0])\n",
        "  y_train.append(scaled_train_data[i,0])\n",
        "\n",
        "# Converting into numpy array\n",
        "X_train=np.array(X_train)\n",
        "y_train=np.array(y_train)  \n",
        "\n",
        "# Reshaping the data\n",
        "X_train = np.reshape(X_train,(X_train.shape[0],X_train.shape[1],1))\n",
        "print(X_train.shape,y_train.shape)"
      ],
      "execution_count": null,
      "outputs": [
        {
          "output_type": "stream",
          "name": "stdout",
          "text": [
            "(945, 60, 1) (945,)\n"
          ]
        }
      ]
    },
    {
      "cell_type": "code",
      "metadata": {
        "colab": {
          "base_uri": "https://localhost:8080/"
        },
        "id": "-i0TPvzMcwZe",
        "outputId": "b373f1c6-a94f-4676-cda1-d7ec10828c26"
      },
      "source": [
        "# Building the LSTM model\n",
        "from tensorflow.keras.models import Sequential\n",
        "from tensorflow.keras.layers import LSTM,Dense,Dropout\n",
        "regressor_model=Sequential()\n",
        "regressor_model.add(LSTM(50,input_shape=(X_train.shape[1],1),return_sequences=True))\n",
        "regressor_model.add(Dropout(0.2))\n",
        "\n",
        "regressor_model.add(LSTM(50,return_sequences=True))\n",
        "regressor_model.add(Dropout(0.2))\n",
        "\n",
        "regressor_model.add(LSTM(50,return_sequences=True))\n",
        "regressor_model.add(Dropout(0.2))\n",
        "\n",
        "regressor_model.add(LSTM(50))\n",
        "regressor_model.add(Dropout(0.2))\n",
        "\n",
        "regressor_model.add(Dense(1))\n",
        "\n",
        "# Fitting the model\n",
        "regressor_model.compile(optimizer='adam',loss='mean_squared_error')\n",
        "regressor_model.fit(X_train,y_train,batch_size=64,epochs=100)\n",
        "\n",
        "#saving the model\n",
        "regressor_model.save('apple_train_stock.model')"
      ],
      "execution_count": null,
      "outputs": [
        {
          "output_type": "stream",
          "name": "stdout",
          "text": [
            "Epoch 1/100\n",
            "15/15 [==============================] - 11s 63ms/step - loss: 0.0302\n",
            "Epoch 2/100\n",
            "15/15 [==============================] - 1s 64ms/step - loss: 0.0130\n",
            "Epoch 3/100\n",
            "15/15 [==============================] - 1s 63ms/step - loss: 0.0095\n",
            "Epoch 5/100\n",
            "15/15 [==============================] - 1s 62ms/step - loss: 0.0077\n",
            "Epoch 6/100\n",
            "15/15 [==============================] - 1s 63ms/step - loss: 0.0083\n",
            "Epoch 7/100\n",
            "15/15 [==============================] - 1s 63ms/step - loss: 0.0074\n",
            "Epoch 8/100\n",
            "15/15 [==============================] - 1s 62ms/step - loss: 0.0066\n",
            "Epoch 9/100\n",
            "15/15 [==============================] - 1s 62ms/step - loss: 0.0067\n",
            "Epoch 10/100\n",
            "15/15 [==============================] - 1s 62ms/step - loss: 0.0063\n",
            "Epoch 11/100\n",
            "15/15 [==============================] - 1s 62ms/step - loss: 0.0059\n",
            "Epoch 12/100\n",
            "15/15 [==============================] - 1s 62ms/step - loss: 0.0057\n",
            "Epoch 13/100\n",
            "15/15 [==============================] - 1s 62ms/step - loss: 0.0049\n",
            "Epoch 14/100\n",
            "15/15 [==============================] - 1s 64ms/step - loss: 0.0051\n",
            "Epoch 15/100\n",
            "15/15 [==============================] - 1s 62ms/step - loss: 0.0050\n",
            "Epoch 16/100\n",
            "15/15 [==============================] - 1s 62ms/step - loss: 0.0046\n",
            "Epoch 17/100\n",
            "15/15 [==============================] - 1s 62ms/step - loss: 0.0037\n",
            "Epoch 18/100\n",
            "15/15 [==============================] - 1s 64ms/step - loss: 0.0038\n",
            "Epoch 19/100\n",
            "15/15 [==============================] - 1s 64ms/step - loss: 0.0044\n",
            "Epoch 20/100\n",
            "15/15 [==============================] - 1s 62ms/step - loss: 0.0038\n",
            "Epoch 21/100\n",
            "15/15 [==============================] - 1s 64ms/step - loss: 0.0037\n",
            "Epoch 22/100\n",
            "15/15 [==============================] - 1s 62ms/step - loss: 0.0037\n",
            "Epoch 23/100\n",
            "15/15 [==============================] - 1s 62ms/step - loss: 0.0036\n",
            "Epoch 24/100\n",
            "15/15 [==============================] - 1s 63ms/step - loss: 0.0034\n",
            "Epoch 25/100\n",
            "15/15 [==============================] - 1s 63ms/step - loss: 0.0037\n",
            "Epoch 26/100\n",
            "15/15 [==============================] - 1s 63ms/step - loss: 0.0035\n",
            "Epoch 27/100\n",
            "15/15 [==============================] - 1s 62ms/step - loss: 0.0028\n",
            "Epoch 28/100\n",
            "15/15 [==============================] - 1s 62ms/step - loss: 0.0031\n",
            "Epoch 29/100\n",
            "15/15 [==============================] - 1s 64ms/step - loss: 0.0032\n",
            "Epoch 30/100\n",
            "15/15 [==============================] - 1s 62ms/step - loss: 0.0031\n",
            "Epoch 31/100\n",
            "15/15 [==============================] - 1s 63ms/step - loss: 0.0028\n",
            "Epoch 32/100\n",
            "15/15 [==============================] - 1s 62ms/step - loss: 0.0025\n",
            "Epoch 33/100\n",
            "15/15 [==============================] - 1s 63ms/step - loss: 0.0031\n",
            "Epoch 34/100\n",
            "15/15 [==============================] - 1s 63ms/step - loss: 0.0044\n",
            "Epoch 35/100\n",
            "15/15 [==============================] - 1s 64ms/step - loss: 0.0039\n",
            "Epoch 36/100\n",
            "15/15 [==============================] - 1s 63ms/step - loss: 0.0028\n",
            "Epoch 37/100\n",
            "15/15 [==============================] - 1s 62ms/step - loss: 0.0025\n",
            "Epoch 38/100\n",
            "15/15 [==============================] - 1s 62ms/step - loss: 0.0034\n",
            "Epoch 39/100\n",
            "15/15 [==============================] - 1s 64ms/step - loss: 0.0034\n",
            "Epoch 40/100\n",
            "15/15 [==============================] - 1s 62ms/step - loss: 0.0032\n",
            "Epoch 41/100\n",
            "15/15 [==============================] - 1s 62ms/step - loss: 0.0035\n",
            "Epoch 42/100\n",
            "15/15 [==============================] - 1s 62ms/step - loss: 0.0029\n",
            "Epoch 43/100\n",
            "15/15 [==============================] - 1s 61ms/step - loss: 0.0023\n",
            "Epoch 44/100\n",
            "15/15 [==============================] - 1s 62ms/step - loss: 0.0029\n",
            "Epoch 45/100\n",
            "15/15 [==============================] - 1s 62ms/step - loss: 0.0026\n",
            "Epoch 46/100\n",
            "15/15 [==============================] - 1s 63ms/step - loss: 0.0030\n",
            "Epoch 47/100\n",
            "15/15 [==============================] - 1s 62ms/step - loss: 0.0023\n",
            "Epoch 48/100\n",
            "15/15 [==============================] - 1s 62ms/step - loss: 0.0026\n",
            "Epoch 49/100\n",
            "15/15 [==============================] - 1s 62ms/step - loss: 0.0036\n",
            "Epoch 50/100\n",
            "15/15 [==============================] - 1s 63ms/step - loss: 0.0028\n",
            "Epoch 51/100\n",
            "15/15 [==============================] - 1s 62ms/step - loss: 0.0030\n",
            "Epoch 52/100\n",
            "15/15 [==============================] - 1s 63ms/step - loss: 0.0054\n",
            "Epoch 53/100\n",
            "15/15 [==============================] - 1s 62ms/step - loss: 0.0033\n",
            "Epoch 54/100\n",
            "15/15 [==============================] - 1s 63ms/step - loss: 0.0027\n",
            "Epoch 55/100\n",
            "15/15 [==============================] - 1s 62ms/step - loss: 0.0022\n",
            "Epoch 56/100\n",
            "15/15 [==============================] - 1s 62ms/step - loss: 0.0022\n",
            "Epoch 57/100\n",
            "15/15 [==============================] - 1s 62ms/step - loss: 0.0026\n",
            "Epoch 58/100\n",
            "15/15 [==============================] - 1s 62ms/step - loss: 0.0022\n",
            "Epoch 59/100\n",
            "15/15 [==============================] - 1s 63ms/step - loss: 0.0019\n",
            "Epoch 60/100\n",
            "15/15 [==============================] - 1s 63ms/step - loss: 0.0022\n",
            "Epoch 61/100\n",
            "15/15 [==============================] - 1s 62ms/step - loss: 0.0021\n",
            "Epoch 62/100\n",
            "15/15 [==============================] - 1s 61ms/step - loss: 0.0027\n",
            "Epoch 63/100\n",
            "15/15 [==============================] - 1s 62ms/step - loss: 0.0020\n",
            "Epoch 64/100\n",
            "15/15 [==============================] - 1s 62ms/step - loss: 0.0029\n",
            "Epoch 65/100\n",
            "15/15 [==============================] - 1s 62ms/step - loss: 0.0026\n",
            "Epoch 66/100\n",
            "15/15 [==============================] - 1s 63ms/step - loss: 0.0021\n",
            "Epoch 67/100\n",
            "15/15 [==============================] - 1s 63ms/step - loss: 0.0021\n",
            "Epoch 68/100\n",
            "15/15 [==============================] - 1s 62ms/step - loss: 0.0019\n",
            "Epoch 69/100\n",
            "15/15 [==============================] - 1s 63ms/step - loss: 0.0017\n",
            "Epoch 70/100\n",
            "15/15 [==============================] - 1s 63ms/step - loss: 0.0023\n",
            "Epoch 71/100\n",
            "15/15 [==============================] - 1s 63ms/step - loss: 0.0025\n",
            "Epoch 72/100\n",
            "15/15 [==============================] - 1s 63ms/step - loss: 0.0021\n",
            "Epoch 73/100\n",
            "15/15 [==============================] - 1s 64ms/step - loss: 0.0020\n",
            "Epoch 74/100\n",
            "15/15 [==============================] - 1s 63ms/step - loss: 0.0019\n",
            "Epoch 75/100\n",
            "15/15 [==============================] - 1s 63ms/step - loss: 0.0017\n",
            "Epoch 76/100\n",
            "15/15 [==============================] - 1s 61ms/step - loss: 0.0030\n",
            "Epoch 77/100\n",
            "15/15 [==============================] - 1s 63ms/step - loss: 0.0029\n",
            "Epoch 78/100\n",
            "15/15 [==============================] - 1s 62ms/step - loss: 0.0022\n",
            "Epoch 79/100\n",
            "15/15 [==============================] - 1s 63ms/step - loss: 0.0023\n",
            "Epoch 80/100\n",
            "15/15 [==============================] - 1s 63ms/step - loss: 0.0025\n",
            "Epoch 81/100\n",
            "15/15 [==============================] - 1s 63ms/step - loss: 0.0022\n",
            "Epoch 82/100\n",
            "15/15 [==============================] - 1s 63ms/step - loss: 0.0019\n",
            "Epoch 83/100\n",
            "15/15 [==============================] - 1s 63ms/step - loss: 0.0017\n",
            "Epoch 84/100\n",
            "15/15 [==============================] - 1s 62ms/step - loss: 0.0014\n",
            "Epoch 85/100\n",
            "15/15 [==============================] - 1s 63ms/step - loss: 0.0014\n",
            "Epoch 86/100\n",
            "15/15 [==============================] - 1s 62ms/step - loss: 0.0036\n",
            "Epoch 87/100\n",
            "15/15 [==============================] - 1s 62ms/step - loss: 0.0019\n",
            "Epoch 88/100\n",
            "15/15 [==============================] - 1s 64ms/step - loss: 0.0017\n",
            "Epoch 89/100\n",
            "15/15 [==============================] - 1s 64ms/step - loss: 0.0028\n",
            "Epoch 90/100\n",
            "15/15 [==============================] - 1s 63ms/step - loss: 0.0031\n",
            "Epoch 91/100\n",
            "15/15 [==============================] - 1s 62ms/step - loss: 0.0017\n",
            "Epoch 92/100\n",
            "15/15 [==============================] - 1s 63ms/step - loss: 0.0021\n",
            "Epoch 93/100\n",
            "15/15 [==============================] - 1s 63ms/step - loss: 0.0020\n",
            "Epoch 94/100\n",
            "15/15 [==============================] - 1s 64ms/step - loss: 0.0031\n",
            "Epoch 95/100\n",
            "15/15 [==============================] - 1s 62ms/step - loss: 0.0029\n",
            "Epoch 96/100\n",
            "15/15 [==============================] - 1s 63ms/step - loss: 0.0021\n",
            "Epoch 97/100\n",
            "15/15 [==============================] - 1s 63ms/step - loss: 0.0017\n",
            "Epoch 98/100\n",
            "15/15 [==============================] - 1s 62ms/step - loss: 0.0025\n",
            "Epoch 99/100\n",
            "15/15 [==============================] - 1s 63ms/step - loss: 0.0020\n",
            "Epoch 100/100\n",
            "15/15 [==============================] - 1s 63ms/step - loss: 0.0018\n"
          ]
        },
        {
          "output_type": "stream",
          "name": "stderr",
          "text": [
            "WARNING:absl:Found untraced functions such as lstm_cell_layer_call_fn, lstm_cell_layer_call_and_return_conditional_losses, lstm_cell_1_layer_call_fn, lstm_cell_1_layer_call_and_return_conditional_losses, lstm_cell_2_layer_call_fn while saving (showing 5 of 20). These functions will not be directly callable after loading.\n"
          ]
        },
        {
          "output_type": "stream",
          "name": "stdout",
          "text": [
            "INFO:tensorflow:Assets written to: apple_train_stock.model/assets\n"
          ]
        },
        {
          "output_type": "stream",
          "name": "stderr",
          "text": [
            "INFO:tensorflow:Assets written to: apple_train_stock.model/assets\n",
            "WARNING:absl:<keras.layers.recurrent.LSTMCell object at 0x7fc832c54ed0> has the same name 'LSTMCell' as a built-in Keras object. Consider renaming <class 'keras.layers.recurrent.LSTMCell'> to avoid naming conflicts when loading with `tf.keras.models.load_model`. If renaming is not possible, pass the object in the `custom_objects` parameter of the load function.\n",
            "WARNING:absl:<keras.layers.recurrent.LSTMCell object at 0x7fc83019ff50> has the same name 'LSTMCell' as a built-in Keras object. Consider renaming <class 'keras.layers.recurrent.LSTMCell'> to avoid naming conflicts when loading with `tf.keras.models.load_model`. If renaming is not possible, pass the object in the `custom_objects` parameter of the load function.\n",
            "WARNING:absl:<keras.layers.recurrent.LSTMCell object at 0x7fc8300fa990> has the same name 'LSTMCell' as a built-in Keras object. Consider renaming <class 'keras.layers.recurrent.LSTMCell'> to avoid naming conflicts when loading with `tf.keras.models.load_model`. If renaming is not possible, pass the object in the `custom_objects` parameter of the load function.\n",
            "WARNING:absl:<keras.layers.recurrent.LSTMCell object at 0x7fc83005e810> has the same name 'LSTMCell' as a built-in Keras object. Consider renaming <class 'keras.layers.recurrent.LSTMCell'> to avoid naming conflicts when loading with `tf.keras.models.load_model`. If renaming is not possible, pass the object in the `custom_objects` parameter of the load function.\n"
          ]
        }
      ]
    },
    {
      "cell_type": "code",
      "metadata": {
        "colab": {
          "base_uri": "https://localhost:8080/"
        },
        "id": "tmxOHEM8Lq4a",
        "outputId": "ad1373cd-ee9a-4e29-8b51-0c7579c23d82"
      },
      "source": [
        "# preparing the test data\n",
        "inputs = data.iloc[len(data)-test_size-60:,2:3].values\n",
        "inputs=inputs.reshape(-1,1)\n",
        "scaled_inputs=sc.transform(inputs)\n",
        "X_test=[]\n",
        "for i in range(60,len(scaled_inputs)):\n",
        "  X_test.append(scaled_inputs[i-60:i,0])\n",
        "\n",
        "X_test=np.array(X_test)\n",
        "X_test=np.reshape(X_test,(X_test.shape[0],X_test.shape[1],1))\n",
        "\n",
        "# Predicting the model\n",
        "pred_y=regressor_model.predict(X_test)\n",
        "\n",
        "# Transform back to orginal form\n",
        "pred_y=sc.inverse_transform(pred_y)\n",
        "print(pred_y.shape)\n",
        "\n",
        "# Calculate RMSE performance metrics\n",
        "rmse = np.sqrt(np.mean((np.array(test_data)-pred_y)**2))\n",
        "print(rmse)"
      ],
      "execution_count": null,
      "outputs": [
        {
          "output_type": "stream",
          "name": "stdout",
          "text": [
            "(252, 1)\n",
            "5.231234334728682\n"
          ]
        }
      ]
    },
    {
      "cell_type": "code",
      "metadata": {
        "colab": {
          "base_uri": "https://localhost:8080/"
        },
        "id": "Qg4msVZ0_JSt",
        "outputId": "b7b74b7f-ea60-4de1-facb-811c118079ad"
      },
      "source": [
        "# comparing pred data with actual data\n",
        "print(np.concatenate((pred_y,test_data),1)[0:10])"
      ],
      "execution_count": null,
      "outputs": [
        {
          "output_type": "stream",
          "name": "stdout",
          "text": [
            "[[124.21576691 123.75      ]\n",
            " [124.7873764  124.38      ]\n",
            " [125.41890717 121.78      ]\n",
            " [126.03253937 123.24      ]\n",
            " [126.58299255 122.41      ]\n",
            " [127.03816986 121.78      ]\n",
            " [127.37562561 127.88      ]\n",
            " [127.67700195 127.81      ]\n",
            " [128.0181427  128.7       ]\n",
            " [128.4445343  126.655     ]]\n"
          ]
        }
      ]
    },
    {
      "cell_type": "code",
      "metadata": {
        "colab": {
          "base_uri": "https://localhost:8080/",
          "height": 295
        },
        "id": "LIT2g9anxXqu",
        "outputId": "ce2b7db2-3a6a-4680-fad0-8c3614d3e1d1"
      },
      "source": [
        "# Plotting \n",
        "plt.plot(test_data,label='true stock price')\n",
        "plt.plot(pred_y,label='predicted stock price')\n",
        "plt.title('stock prediction')\n",
        "plt.xlabel('time')\n",
        "plt.ylabel('price')\n",
        "plt.legend(loc='upper left')\n",
        "\n",
        "# saving the plot\n",
        "plt.savefig('price prediction.png')"
      ],
      "execution_count": null,
      "outputs": [
        {
          "output_type": "display_data",
          "data": {
            "image/png": "[encoded data removed]",
            "text/plain": [
              "<Figure size 432x288 with 1 Axes>"
            ]
          },
          "metadata": {
            "needs_background": "light"
          }
        }
      ]
    },
    {
      "cell_type": "code",
      "metadata": {
        "id": "JLCrbwueYNqs",
        "colab": {
          "base_uri": "https://localhost:8080/",
          "height": 295
        },
        "outputId": "507c9a68-7f20-49ed-cccd-a0004aa69200"
      },
      "source": [
        "# comparision of orginal stock to predited stock\n",
        "df_close = data['close']\n",
        "y_pred=pd.DataFrame(columns=['close'],data=pred_y)\n",
        "df_stock= np.concatenate((data['close'][0:training_size],y_pred['close']),axis=0)\n",
        "\n",
        "# ploting the close feature in stocks\n",
        "plt.plot(df_close,color='red',label='orginal stock')\n",
        "plt.plot(df_stock,color='blue',label='predicted stock')\n",
        "plt.title('total stock prediction')\n",
        "plt.xlabel('time')\n",
        "plt.ylabel('price')\n",
        "plt.legend(loc='upper left')\n",
        "\n",
        "# saving the plot\n",
        "plt.savefig('stock prediction.png')"
      ],
      "execution_count": null,
      "outputs": [
        {
          "output_type": "display_data",
          "data": {
            "image/png": "[encoded data removed]",
            "text/plain": [
              "<Figure size 432x288 with 1 Axes>"
            ]
          },
          "metadata": {
            "needs_background": "light"
          }
        }
      ]
    },
    {
      "cell_type": "code",
      "metadata": {
        "id": "GZiwqzQEC90I"
      },
      "source": [
        ""
      ],
      "execution_count": null,
      "outputs": []
    }
  ]
}