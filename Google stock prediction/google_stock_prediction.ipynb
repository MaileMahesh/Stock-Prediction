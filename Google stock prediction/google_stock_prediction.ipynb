{
  "nbformat": 4,
  "nbformat_minor": 0,
  "metadata": {
    "colab": {
      "name": "google_stock_prediction.ipynb",
      "provenance": [],
      "toc_visible": true
    },
    "kernelspec": {
      "name": "python3",
      "display_name": "Python 3"
    },
    "language_info": {
      "name": "python"
    },
    "accelerator": "GPU"
  },
  "cells": [
    {
      "cell_type": "code",
      "metadata": {
        "colab": {
          "base_uri": "https://localhost:8080/"
        },
        "id": "C4yDREbKoHKI",
        "outputId": "146a692a-f40f-404b-8e6f-de78f32b1753"
      },
      "source": [
        "from google.colab import drive\n",
        "drive.mount('/content/drive')"
      ],
      "execution_count": 1,
      "outputs": [
        {
          "output_type": "stream",
          "name": "stdout",
          "text": [
            "Mounted at /content/drive\n"
          ]
        }
      ]
    },
    {
      "cell_type": "markdown",
      "metadata": {
        "id": "bXB302Edp9zd"
      },
      "source": [
        "## DATA PREPROCESSING"
      ]
    },
    {
      "cell_type": "code",
      "metadata": {
        "colab": {
          "base_uri": "https://localhost:8080/",
          "height": 206
        },
        "id": "DmKikBqZoHNL",
        "outputId": "21e41a75-e905-47e8-88d0-098d640b0913"
      },
      "source": [
        "# Importing the libraries \n",
        "import numpy as np\n",
        "import matplotlib.pyplot as plt\n",
        "import pandas as pd\n",
        "\n",
        "# Importing the training set\n",
        "dataset_train = pd.read_csv('/content/drive/MyDrive/projects/stock_file/google_stocks/train.csv')\n",
        "dataset_train.head()"
      ],
      "execution_count": 2,
      "outputs": [
        {
          "output_type": "execute_result",
          "data": {
            "text/html": [
              "<div>\n",
              "<style scoped>\n",
              "    .dataframe tbody tr th:only-of-type {\n",
              "        vertical-align: middle;\n",
              "    }\n",
              "\n",
              "    .dataframe tbody tr th {\n",
              "        vertical-align: top;\n",
              "    }\n",
              "\n",
              "    .dataframe thead th {\n",
              "        text-align: right;\n",
              "    }\n",
              "</style>\n",
              "<table border=\"1\" class=\"dataframe\">\n",
              "  <thead>\n",
              "    <tr style=\"text-align: right;\">\n",
              "      <th></th>\n",
              "      <th>Date</th>\n",
              "      <th>Open</th>\n",
              "      <th>High</th>\n",
              "      <th>Low</th>\n",
              "      <th>Close</th>\n",
              "      <th>Volume</th>\n",
              "    </tr>\n",
              "  </thead>\n",
              "  <tbody>\n",
              "    <tr>\n",
              "      <th>0</th>\n",
              "      <td>1/3/2012</td>\n",
              "      <td>325.25</td>\n",
              "      <td>332.83</td>\n",
              "      <td>324.97</td>\n",
              "      <td>663.59</td>\n",
              "      <td>7,380,500</td>\n",
              "    </tr>\n",
              "    <tr>\n",
              "      <th>1</th>\n",
              "      <td>1/4/2012</td>\n",
              "      <td>331.27</td>\n",
              "      <td>333.87</td>\n",
              "      <td>329.08</td>\n",
              "      <td>666.45</td>\n",
              "      <td>5,749,400</td>\n",
              "    </tr>\n",
              "    <tr>\n",
              "      <th>2</th>\n",
              "      <td>1/5/2012</td>\n",
              "      <td>329.83</td>\n",
              "      <td>330.75</td>\n",
              "      <td>326.89</td>\n",
              "      <td>657.21</td>\n",
              "      <td>6,590,300</td>\n",
              "    </tr>\n",
              "    <tr>\n",
              "      <th>3</th>\n",
              "      <td>1/6/2012</td>\n",
              "      <td>328.34</td>\n",
              "      <td>328.77</td>\n",
              "      <td>323.68</td>\n",
              "      <td>648.24</td>\n",
              "      <td>5,405,900</td>\n",
              "    </tr>\n",
              "    <tr>\n",
              "      <th>4</th>\n",
              "      <td>1/9/2012</td>\n",
              "      <td>322.04</td>\n",
              "      <td>322.29</td>\n",
              "      <td>309.46</td>\n",
              "      <td>620.76</td>\n",
              "      <td>11,688,800</td>\n",
              "    </tr>\n",
              "  </tbody>\n",
              "</table>\n",
              "</div>"
            ],
            "text/plain": [
              "       Date    Open    High     Low   Close      Volume\n",
              "0  1/3/2012  325.25  332.83  324.97  663.59   7,380,500\n",
              "1  1/4/2012  331.27  333.87  329.08  666.45   5,749,400\n",
              "2  1/5/2012  329.83  330.75  326.89  657.21   6,590,300\n",
              "3  1/6/2012  328.34  328.77  323.68  648.24   5,405,900\n",
              "4  1/9/2012  322.04  322.29  309.46  620.76  11,688,800"
            ]
          },
          "metadata": {},
          "execution_count": 2
        }
      ]
    },
    {
      "cell_type": "code",
      "metadata": {
        "id": "v5pIzpESoHQB"
      },
      "source": [
        "# choosing close column as training stocks\n",
        "training_set = dataset_train.iloc[:, 1:2].values"
      ],
      "execution_count": 3,
      "outputs": []
    },
    {
      "cell_type": "code",
      "metadata": {
        "id": "JbEHnk_poHS5"
      },
      "source": [
        "# Feature Scaling\n",
        "from sklearn.preprocessing import MinMaxScaler\n",
        "sc = MinMaxScaler(feature_range = (0, 1))\n",
        "training_set_scaled = sc.fit_transform(training_set)"
      ],
      "execution_count": 4,
      "outputs": []
    },
    {
      "cell_type": "code",
      "metadata": {
        "id": "7Lb5m02woHVo"
      },
      "source": [
        "# Creating a data structure with 60 timesteps and 1 output\n",
        "X_train = []\n",
        "y_train = []\n",
        "for i in range(60, 1258):\n",
        "    X_train.append(training_set_scaled[i-60:i, 0])\n",
        "    y_train.append(training_set_scaled[i, 0])\n",
        "X_train, y_train = np.array(X_train), np.array(y_train)\n",
        "\n",
        "# Reshaping\n",
        "X_train = np.reshape(X_train, (X_train.shape[0], X_train.shape[1], 1))"
      ],
      "execution_count": 5,
      "outputs": []
    },
    {
      "cell_type": "markdown",
      "metadata": {
        "id": "C9nzeduIsUNK"
      },
      "source": [
        "## Building the RNN model"
      ]
    },
    {
      "cell_type": "code",
      "metadata": {
        "id": "qCjy0ujsoHYk",
        "colab": {
          "base_uri": "https://localhost:8080/"
        },
        "outputId": "dc942d03-01e1-4931-e95b-658c08b75b8f"
      },
      "source": [
        "# Importing the Keras libraries and packages\n",
        "from keras.models import Sequential\n",
        "from keras.layers import Dense\n",
        "from keras.layers import LSTM\n",
        "from keras.layers import Dropout\n",
        "\n",
        "# Initialising the RNN\n",
        "regressor = Sequential()\n",
        "\n",
        "# Adding the first LSTM layer and some Dropout regularisation\n",
        "regressor.add(LSTM(units = 50, return_sequences = True, input_shape = (X_train.shape[1], 1)))\n",
        "regressor.add(Dropout(0.2))\n",
        "\n",
        "# Adding a second LSTM layer and some Dropout regularisation\n",
        "regressor.add(LSTM(units = 50, return_sequences = True))\n",
        "regressor.add(Dropout(0.2))\n",
        "\n",
        "# Adding a third LSTM layer and some Dropout regularisation\n",
        "regressor.add(LSTM(units = 50, return_sequences = True))\n",
        "regressor.add(Dropout(0.2))\n",
        "\n",
        "# Adding a fourth LSTM layer and some Dropout regularisation\n",
        "regressor.add(LSTM(units = 50))\n",
        "regressor.add(Dropout(0.2))\n",
        "\n",
        "# Adding the output layer\n",
        "regressor.add(Dense(units = 1))\n",
        "\n",
        "# Compiling the RNN\n",
        "regressor.compile(optimizer = 'adam', loss = 'mean_squared_error')\n",
        "\n",
        "# Fitting the RNN to the Training set\n",
        "regressor.fit(X_train, y_train, epochs = 100, batch_size = 32)\n",
        "\n",
        "# Save the model\n",
        "regressor.save('g_stocks_pred.model') "
      ],
      "execution_count": 6,
      "outputs": [
        {
          "output_type": "stream",
          "name": "stdout",
          "text": [
            "Epoch 1/100\n",
            "38/38 [==============================] - 13s 62ms/step - loss: 0.0398\n",
            "Epoch 2/100\n",
            "38/38 [==============================] - 2s 62ms/step - loss: 0.0060\n",
            "Epoch 3/100\n",
            "38/38 [==============================] - 2s 62ms/step - loss: 0.0061\n",
            "Epoch 4/100\n",
            "38/38 [==============================] - 2s 62ms/step - loss: 0.0055\n",
            "Epoch 5/100\n",
            "38/38 [==============================] - 2s 62ms/step - loss: 0.0050\n",
            "Epoch 6/100\n",
            "38/38 [==============================] - 2s 62ms/step - loss: 0.0045\n",
            "Epoch 7/100\n",
            "38/38 [==============================] - 2s 62ms/step - loss: 0.0049\n",
            "Epoch 8/100\n",
            "38/38 [==============================] - 2s 62ms/step - loss: 0.0057\n",
            "Epoch 9/100\n",
            "38/38 [==============================] - 2s 62ms/step - loss: 0.0046\n",
            "Epoch 10/100\n",
            "38/38 [==============================] - 2s 62ms/step - loss: 0.0041\n",
            "Epoch 11/100\n",
            "38/38 [==============================] - 2s 62ms/step - loss: 0.0046\n",
            "Epoch 12/100\n",
            "38/38 [==============================] - 2s 62ms/step - loss: 0.0041\n",
            "Epoch 13/100\n",
            "38/38 [==============================] - 2s 62ms/step - loss: 0.0039\n",
            "Epoch 14/100\n",
            "38/38 [==============================] - 2s 62ms/step - loss: 0.0045\n",
            "Epoch 15/100\n",
            "38/38 [==============================] - 2s 61ms/step - loss: 0.0041\n",
            "Epoch 16/100\n",
            "38/38 [==============================] - 2s 62ms/step - loss: 0.0036\n",
            "Epoch 17/100\n",
            "38/38 [==============================] - 2s 62ms/step - loss: 0.0036\n",
            "Epoch 18/100\n",
            "38/38 [==============================] - 2s 62ms/step - loss: 0.0038\n",
            "Epoch 19/100\n",
            "38/38 [==============================] - 2s 61ms/step - loss: 0.0036\n",
            "Epoch 20/100\n",
            "38/38 [==============================] - 2s 62ms/step - loss: 0.0037\n",
            "Epoch 21/100\n",
            "38/38 [==============================] - 2s 63ms/step - loss: 0.0031\n",
            "Epoch 22/100\n",
            "38/38 [==============================] - 2s 62ms/step - loss: 0.0035\n",
            "Epoch 23/100\n",
            "38/38 [==============================] - 2s 62ms/step - loss: 0.0035\n",
            "Epoch 24/100\n",
            "38/38 [==============================] - 2s 62ms/step - loss: 0.0040\n",
            "Epoch 25/100\n",
            "38/38 [==============================] - 2s 62ms/step - loss: 0.0036\n",
            "Epoch 26/100\n",
            "38/38 [==============================] - 2s 62ms/step - loss: 0.0030\n",
            "Epoch 27/100\n",
            "38/38 [==============================] - 2s 61ms/step - loss: 0.0032\n",
            "Epoch 28/100\n",
            "38/38 [==============================] - 2s 61ms/step - loss: 0.0031\n",
            "Epoch 29/100\n",
            "38/38 [==============================] - 2s 62ms/step - loss: 0.0031\n",
            "Epoch 30/100\n",
            "38/38 [==============================] - 2s 62ms/step - loss: 0.0028\n",
            "Epoch 31/100\n",
            "38/38 [==============================] - 2s 64ms/step - loss: 0.0030\n",
            "Epoch 32/100\n",
            "38/38 [==============================] - 2s 62ms/step - loss: 0.0027\n",
            "Epoch 33/100\n",
            "38/38 [==============================] - 2s 62ms/step - loss: 0.0028\n",
            "Epoch 34/100\n",
            "38/38 [==============================] - 2s 62ms/step - loss: 0.0030\n",
            "Epoch 35/100\n",
            "38/38 [==============================] - 2s 62ms/step - loss: 0.0030\n",
            "Epoch 36/100\n",
            "38/38 [==============================] - 2s 62ms/step - loss: 0.0027\n",
            "Epoch 37/100\n",
            "38/38 [==============================] - 2s 61ms/step - loss: 0.0029\n",
            "Epoch 38/100\n",
            "38/38 [==============================] - 2s 62ms/step - loss: 0.0028\n",
            "Epoch 39/100\n",
            "38/38 [==============================] - 2s 62ms/step - loss: 0.0026\n",
            "Epoch 40/100\n",
            "38/38 [==============================] - 2s 61ms/step - loss: 0.0028\n",
            "Epoch 41/100\n",
            "38/38 [==============================] - 2s 62ms/step - loss: 0.0026\n",
            "Epoch 42/100\n",
            "38/38 [==============================] - 2s 62ms/step - loss: 0.0025\n",
            "Epoch 43/100\n",
            "38/38 [==============================] - 2s 63ms/step - loss: 0.0027\n",
            "Epoch 44/100\n",
            "38/38 [==============================] - 2s 63ms/step - loss: 0.0027\n",
            "Epoch 45/100\n",
            "38/38 [==============================] - 2s 63ms/step - loss: 0.0025\n",
            "Epoch 46/100\n",
            "38/38 [==============================] - 2s 62ms/step - loss: 0.0024\n",
            "Epoch 47/100\n",
            "38/38 [==============================] - 2s 62ms/step - loss: 0.0025\n",
            "Epoch 48/100\n",
            "38/38 [==============================] - 2s 63ms/step - loss: 0.0023\n",
            "Epoch 49/100\n",
            "38/38 [==============================] - 2s 63ms/step - loss: 0.0025\n",
            "Epoch 50/100\n",
            "38/38 [==============================] - 2s 63ms/step - loss: 0.0022\n",
            "Epoch 51/100\n",
            "38/38 [==============================] - 2s 62ms/step - loss: 0.0022\n",
            "Epoch 52/100\n",
            "38/38 [==============================] - 2s 62ms/step - loss: 0.0023\n",
            "Epoch 53/100\n",
            "38/38 [==============================] - 2s 62ms/step - loss: 0.0022\n",
            "Epoch 54/100\n",
            "38/38 [==============================] - 2s 62ms/step - loss: 0.0022\n",
            "Epoch 55/100\n",
            "38/38 [==============================] - 2s 62ms/step - loss: 0.0022\n",
            "Epoch 56/100\n",
            "38/38 [==============================] - 2s 62ms/step - loss: 0.0024\n",
            "Epoch 57/100\n",
            "38/38 [==============================] - 2s 62ms/step - loss: 0.0025\n",
            "Epoch 58/100\n",
            "38/38 [==============================] - 2s 63ms/step - loss: 0.0021\n",
            "Epoch 59/100\n",
            "38/38 [==============================] - 2s 61ms/step - loss: 0.0022\n",
            "Epoch 60/100\n",
            "38/38 [==============================] - 2s 62ms/step - loss: 0.0024\n",
            "Epoch 61/100\n",
            "38/38 [==============================] - 2s 63ms/step - loss: 0.0025\n",
            "Epoch 62/100\n",
            "38/38 [==============================] - 2s 63ms/step - loss: 0.0021\n",
            "Epoch 63/100\n",
            "38/38 [==============================] - 2s 62ms/step - loss: 0.0022\n",
            "Epoch 64/100\n",
            "38/38 [==============================] - 2s 62ms/step - loss: 0.0021\n",
            "Epoch 65/100\n",
            "38/38 [==============================] - 2s 62ms/step - loss: 0.0019\n",
            "Epoch 66/100\n",
            "38/38 [==============================] - 2s 62ms/step - loss: 0.0021\n",
            "Epoch 67/100\n",
            "38/38 [==============================] - 2s 62ms/step - loss: 0.0019\n",
            "Epoch 68/100\n",
            "38/38 [==============================] - 2s 62ms/step - loss: 0.0018\n",
            "Epoch 69/100\n",
            "38/38 [==============================] - 2s 62ms/step - loss: 0.0021\n",
            "Epoch 70/100\n",
            "38/38 [==============================] - 2s 62ms/step - loss: 0.0021\n",
            "Epoch 71/100\n",
            "38/38 [==============================] - 2s 62ms/step - loss: 0.0018\n",
            "Epoch 72/100\n",
            "38/38 [==============================] - 2s 63ms/step - loss: 0.0021\n",
            "Epoch 73/100\n",
            "38/38 [==============================] - 2s 61ms/step - loss: 0.0018\n",
            "Epoch 74/100\n",
            "38/38 [==============================] - 2s 62ms/step - loss: 0.0017\n",
            "Epoch 75/100\n",
            "38/38 [==============================] - 2s 62ms/step - loss: 0.0018\n",
            "Epoch 76/100\n",
            "38/38 [==============================] - 2s 62ms/step - loss: 0.0021\n",
            "Epoch 77/100\n",
            "38/38 [==============================] - 2s 62ms/step - loss: 0.0019\n",
            "Epoch 78/100\n",
            "38/38 [==============================] - 2s 62ms/step - loss: 0.0017\n",
            "Epoch 79/100\n",
            "38/38 [==============================] - 2s 63ms/step - loss: 0.0019\n",
            "Epoch 80/100\n",
            "38/38 [==============================] - 2s 62ms/step - loss: 0.0022\n",
            "Epoch 81/100\n",
            "38/38 [==============================] - 2s 62ms/step - loss: 0.0016\n",
            "Epoch 82/100\n",
            "38/38 [==============================] - 2s 63ms/step - loss: 0.0015\n",
            "Epoch 83/100\n",
            "38/38 [==============================] - 2s 62ms/step - loss: 0.0016\n",
            "Epoch 84/100\n",
            "38/38 [==============================] - 2s 62ms/step - loss: 0.0015\n",
            "Epoch 85/100\n",
            "38/38 [==============================] - 2s 63ms/step - loss: 0.0016\n",
            "Epoch 86/100\n",
            "38/38 [==============================] - 2s 63ms/step - loss: 0.0017\n",
            "Epoch 87/100\n",
            "38/38 [==============================] - 2s 64ms/step - loss: 0.0015\n",
            "Epoch 88/100\n",
            "38/38 [==============================] - 2s 63ms/step - loss: 0.0016\n",
            "Epoch 89/100\n",
            "38/38 [==============================] - 2s 62ms/step - loss: 0.0017\n",
            "Epoch 90/100\n",
            "38/38 [==============================] - 2s 62ms/step - loss: 0.0017\n",
            "Epoch 91/100\n",
            "38/38 [==============================] - 2s 62ms/step - loss: 0.0015\n",
            "Epoch 92/100\n",
            "38/38 [==============================] - 2s 63ms/step - loss: 0.0015\n",
            "Epoch 93/100\n",
            "38/38 [==============================] - 2s 62ms/step - loss: 0.0017\n",
            "Epoch 94/100\n",
            "38/38 [==============================] - 2s 63ms/step - loss: 0.0015\n",
            "Epoch 95/100\n",
            "38/38 [==============================] - 2s 63ms/step - loss: 0.0013\n",
            "Epoch 96/100\n",
            "38/38 [==============================] - 2s 63ms/step - loss: 0.0014\n",
            "Epoch 97/100\n",
            "38/38 [==============================] - 2s 62ms/step - loss: 0.0014\n",
            "Epoch 98/100\n",
            "38/38 [==============================] - 2s 63ms/step - loss: 0.0014\n",
            "Epoch 99/100\n",
            "38/38 [==============================] - 2s 63ms/step - loss: 0.0013\n",
            "Epoch 100/100\n",
            "38/38 [==============================] - 2s 63ms/step - loss: 0.0015\n"
          ]
        },
        {
          "output_type": "stream",
          "name": "stderr",
          "text": [
            "WARNING:absl:Found untraced functions such as lstm_cell_layer_call_fn, lstm_cell_layer_call_and_return_conditional_losses, lstm_cell_1_layer_call_fn, lstm_cell_1_layer_call_and_return_conditional_losses, lstm_cell_2_layer_call_fn while saving (showing 5 of 20). These functions will not be directly callable after loading.\n"
          ]
        },
        {
          "output_type": "stream",
          "name": "stdout",
          "text": [
            "INFO:tensorflow:Assets written to: g_stocks_pred.model/assets\n"
          ]
        },
        {
          "output_type": "stream",
          "name": "stderr",
          "text": [
            "INFO:tensorflow:Assets written to: g_stocks_pred.model/assets\n",
            "WARNING:absl:<keras.layers.recurrent.LSTMCell object at 0x7fcb08125b50> has the same name 'LSTMCell' as a built-in Keras object. Consider renaming <class 'keras.layers.recurrent.LSTMCell'> to avoid naming conflicts when loading with `tf.keras.models.load_model`. If renaming is not possible, pass the object in the `custom_objects` parameter of the load function.\n",
            "WARNING:absl:<keras.layers.recurrent.LSTMCell object at 0x7fcb000e0c50> has the same name 'LSTMCell' as a built-in Keras object. Consider renaming <class 'keras.layers.recurrent.LSTMCell'> to avoid naming conflicts when loading with `tf.keras.models.load_model`. If renaming is not possible, pass the object in the `custom_objects` parameter of the load function.\n",
            "WARNING:absl:<keras.layers.recurrent.LSTMCell object at 0x7fcb00056450> has the same name 'LSTMCell' as a built-in Keras object. Consider renaming <class 'keras.layers.recurrent.LSTMCell'> to avoid naming conflicts when loading with `tf.keras.models.load_model`. If renaming is not possible, pass the object in the `custom_objects` parameter of the load function.\n",
            "WARNING:absl:<keras.layers.recurrent.LSTMCell object at 0x7fca8e2da790> has the same name 'LSTMCell' as a built-in Keras object. Consider renaming <class 'keras.layers.recurrent.LSTMCell'> to avoid naming conflicts when loading with `tf.keras.models.load_model`. If renaming is not possible, pass the object in the `custom_objects` parameter of the load function.\n"
          ]
        }
      ]
    },
    {
      "cell_type": "markdown",
      "metadata": {
        "id": "XfcDtSiosxRn"
      },
      "source": [
        "## Making the predictions and visualising the results"
      ]
    },
    {
      "cell_type": "code",
      "metadata": {
        "id": "OyUBQ-aVoHbg"
      },
      "source": [
        "# Getting the real stock price of 2017\n",
        "dataset_test = pd.read_csv('/content/drive/MyDrive/projects/stock_file/google_stocks/test.csv')\n",
        "real_stock_price = dataset_test.iloc[:, 1:2].values\n",
        "\n",
        "# Getting the predicted stock price of 2017\n",
        "dataset_total = pd.concat((dataset_train['Open'], dataset_test['Open']), axis = 0)\n",
        "inputs = dataset_total[len(dataset_total) - len(dataset_test) - 60:].values\n",
        "inputs = inputs.reshape(-1,1)\n",
        "inputs = sc.transform(inputs)\n",
        "X_test = []\n",
        "for i in range(60, 80):\n",
        "    X_test.append(inputs[i-60:i, 0])\n",
        "X_test = np.array(X_test)\n",
        "X_test = np.reshape(X_test, (X_test.shape[0], X_test.shape[1], 1))\n",
        "predicted_stock_price = regressor.predict(X_test)\n",
        "predicted_stock_price = sc.inverse_transform(predicted_stock_price)"
      ],
      "execution_count": 7,
      "outputs": []
    },
    {
      "cell_type": "code",
      "metadata": {
        "colab": {
          "base_uri": "https://localhost:8080/"
        },
        "id": "_7D9ExeLGwSf",
        "outputId": "8c5e0189-5728-46a5-c63f-9d164ff22cc3"
      },
      "source": [
        "# comparing predicted value to orginal value\n",
        "print(np.concatenate((predicted_stock_price,real_stock_price),1)[0:10])"
      ],
      "execution_count": 8,
      "outputs": [
        {
          "output_type": "stream",
          "name": "stdout",
          "text": [
            "[[783.56427002 778.81      ]\n",
            " [780.83782959 788.36      ]\n",
            " [780.71929932 786.08      ]\n",
            " [781.91217041 795.26      ]\n",
            " [785.09020996 806.4       ]\n",
            " [790.75109863 807.86      ]\n",
            " [796.18017578 805.        ]\n",
            " [798.70709229 807.14      ]\n",
            " [799.20123291 807.48      ]\n",
            " [798.85522461 807.08      ]]\n"
          ]
        }
      ]
    },
    {
      "cell_type": "code",
      "metadata": {
        "id": "KcK2NlK0oHfG",
        "colab": {
          "base_uri": "https://localhost:8080/",
          "height": 313
        },
        "outputId": "0b6de59b-9da2-4e15-8f9b-f43d72448acf"
      },
      "source": [
        "# Visualising the results\n",
        "plt.plot(real_stock_price, color = 'red', label = 'Real Google Stock Price')\n",
        "plt.plot(predicted_stock_price, color = 'blue', label = 'Predicted Google Stock Price')\n",
        "plt.title('Google Stock Price Prediction')\n",
        "plt.xlabel('Time')\n",
        "plt.ylabel('Google Stock Price')\n",
        "plt.legend()\n",
        "plt.show()\n",
        "\n",
        "# Save the plot to disk\n",
        "plt.savefig('stocks graph of google stocks.png')"
      ],
      "execution_count": 9,
      "outputs": [
        {
          "output_type": "display_data",
          "data": {
            "image/png": "[encoded data removed]",
            "text/plain": [
              "<Figure size 432x288 with 1 Axes>"
            ]
          },
          "metadata": {
            "needs_background": "light"
          }
        },
        {
          "output_type": "display_data",
          "data": {
            "text/plain": [
              "<Figure size 432x288 with 0 Axes>"
            ]
          },
          "metadata": {}
        }
      ]
    }
  ]
}